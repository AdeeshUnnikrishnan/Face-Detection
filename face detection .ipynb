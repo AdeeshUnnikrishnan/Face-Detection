{
 "cells": [
  {
   "cell_type": "code",
   "execution_count": 3,
   "metadata": {},
   "outputs": [],
   "source": [
    "import cv2\n",
    "%matplotlib inline"
   ]
  },
  {
   "cell_type": "code",
   "execution_count": 4,
   "metadata": {},
   "outputs": [],
   "source": [
    "# creating a image path\n",
    "imagePath = \"image.jpg\"\n",
    "# creating cascade haar feature path\n",
    "cascadeclassifierpath = \"haarcascade_frontalface_alt.xml\""
   ]
  },
  {
   "cell_type": "code",
   "execution_count": 5,
   "metadata": {},
   "outputs": [],
   "source": [
    "# creating the classifier\n",
    "cascadeclassifier = cv2.CascadeClassifier(cascadeclassifierpath)\n",
    "# intiating the image\n",
    "image = cv2.imread(imagePath)\n",
    "# turning into grayscale image\n",
    "grayImage = cv2.cvtColor(image,cv2.COLOR_BGR2GRAY)\n",
    "# final output of the detected face\n",
    "detectedFace = cascadeclassifier.detectMultiScale(grayImage)"
   ]
  },
  {
   "cell_type": "code",
   "execution_count": 6,
   "metadata": {},
   "outputs": [
    {
     "data": {
      "text/plain": [
       "True"
      ]
     },
     "execution_count": 6,
     "metadata": {},
     "output_type": "execute_result"
    }
   ],
   "source": [
    "# creating a rectangle for the faces based on viola algorithm\n",
    "# image represents input\n",
    "# (x,y) represents measurements\n",
    "# (X+width,y+height) represents the length & breadth of the rectangle\n",
    "# (0,0,255) represents the hex value of red colour\n",
    "# 10 represents the size of the rectangle box\n",
    "for (x,y,height,width) in detectedFace:\n",
    "    cv2.rectangle(image,(x,y),(x+width,y+height),(0,0,255),10)\n",
    "    \n",
    "cv2.imwrite(\"result.jpg\",image)"
   ]
  },
  {
   "cell_type": "markdown",
   "metadata": {},
   "source": [
    "# Parameter Tuning\n",
    "\n",
    "1.) Scale Factor :\n",
    "\n",
    "=> some faces may be closer to the camera and appear bigger , scale factor can fix this by specifying\n",
    "   \n",
    "   how much the image size is reduced at each image scale...\n",
    "   \n",
    "   value ranges from 1.1 to 1.4\n",
    "   \n",
    "   small - algorithm will be slow , since it is more thorough \n",
    "   \n",
    "   high - faster detection but might miss some faces\n",
    "   \n",
    "2.) minNeighbors :\n",
    "\n",
    "=> specifying how many neighbors each rectangle should have\n",
    "\n",
    "   value interval - 3-6\n",
    "   \n",
    "   higher value - less detection with higher quality\n",
    "   \n",
    "3.) flags :\n",
    "\n",
    "=> kind of heuristic, rejects images which have few edges \n",
    "\n",
    "4.) minSize :\n",
    "\n",
    "=> objects smaller are ignored\n",
    "\n",
    "5.) maxSize :\n",
    "\n",
    "=> objects larger are ignored"
   ]
  },
  {
   "cell_type": "code",
   "execution_count": 8,
   "metadata": {},
   "outputs": [],
   "source": [
    "imagepath1 = \"image3.jpg\"\n",
    "cascadeClassifierpath = \"haarcascade_frontalface_alt.xml\""
   ]
  },
  {
   "cell_type": "code",
   "execution_count": 20,
   "metadata": {},
   "outputs": [],
   "source": [
    "cascadeclf = cv2.CascadeClassifier(cascadeClassifierpath)\n",
    "image1 = cv2.imread(imagepath1)\n",
    "grayImage1 = cv2.cvtColor(image1,cv2.COLOR_BGR2GRAY)\n",
    "# for fixing the mismatch rectangle\n",
    "detectedFace1 = cascadeclf.detectMultiScale(grayImage1, scaleFactor = 1.12, minNeighbors=5, minSize=(30,30))"
   ]
  },
  {
   "cell_type": "code",
   "execution_count": 21,
   "metadata": {},
   "outputs": [
    {
     "data": {
      "text/plain": [
       "True"
      ]
     },
     "execution_count": 21,
     "metadata": {},
     "output_type": "execute_result"
    }
   ],
   "source": [
    "for (x,y,width,height) in detectedFace1:\n",
    "    cv2.rectangle(image1,(x,y),(x+width,y+height),(0,0,255),10)\n",
    "    \n",
    "cv2.imwrite(\"result3.jpg\",image1)"
   ]
  },
  {
   "cell_type": "code",
   "execution_count": null,
   "metadata": {},
   "outputs": [],
   "source": []
  }
 ],
 "metadata": {
  "kernelspec": {
   "display_name": "Python 3",
   "language": "python",
   "name": "python3"
  },
  "language_info": {
   "codemirror_mode": {
    "name": "ipython",
    "version": 3
   },
   "file_extension": ".py",
   "mimetype": "text/x-python",
   "name": "python",
   "nbconvert_exporter": "python",
   "pygments_lexer": "ipython3",
   "version": "3.7.4"
  }
 },
 "nbformat": 4,
 "nbformat_minor": 2
}
